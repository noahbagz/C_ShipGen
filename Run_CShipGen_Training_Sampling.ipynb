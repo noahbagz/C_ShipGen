{
 "cells": [
  {
   "cell_type": "markdown",
   "metadata": {},
   "source": [
    "## C-ShipGen: Sample Tailored Ship Hulls from a Tabular DDPM"
   ]
  },
  {
   "cell_type": "code",
   "execution_count": 1,
   "metadata": {},
   "outputs": [],
   "source": [
    "# import the fun\n",
    "import sys\n",
    "\n",
    "sys.path.append('./tools')\n",
    "sys.path.append('./data')\n",
    "\n",
    "import numpy as np\n",
    "from tqdm import tqdm\n",
    "import math\n",
    "import matplotlib.pyplot as plt\n",
    "import torch\n",
    "import torch.nn as nn\n",
    "import torch.nn.functional as F\n",
    "import Guided_Cond_DDPM_Tools as GC_DDPM\n",
    "\n",
    "from sklearn.decomposition import PCA\n",
    "\n",
    "import matplotlib.pyplot as plt\n",
    "\n",
    "from HullParameterization import Hull_Parameterization as HP\n",
    "\n",
    "\n",
    "np.set_printoptions(suppress=True) # don't use scientific notation"
   ]
  },
  {
   "cell_type": "code",
   "execution_count": 2,
   "metadata": {},
   "outputs": [
    {
     "name": "stdout",
     "output_type": "stream",
     "text": [
      "(82168, 45)\n",
      "(82793, 44)\n",
      "(44, 2)\n"
     ]
    }
   ],
   "source": [
    "# Load in the Data:\n",
    "\n",
    "#Step 1: Load in the data\n",
    "DesVec = np.load('./data/DesVec_82k.npy', allow_pickle=True)\n",
    "print(DesVec.shape)\n",
    "\n",
    "DesVec_neg = np.load('./data/Negative_DesVec_82k.npy', allow_pickle=True)\n",
    "print(DesVec_neg.shape)\n",
    "\n",
    "\n",
    "# Now lets clean up X\n",
    "\n",
    "idx_BBFactors = [33,34,35,36,37]\n",
    "idx_BB = 31\n",
    "\n",
    "idx_SBFactors = [38,39,40,41,42,43,44]\n",
    "idx_SB = 32\n",
    "\n",
    "for i in range(0,len(DesVec)):\n",
    "    \n",
    "    DesVec[i,idx_BBFactors] = DesVec[i,idx_BB] * DesVec[i,idx_BBFactors] \n",
    "    DesVec[i,idx_SBFactors] = DesVec[i,idx_SB] * DesVec[i,idx_SBFactors]\n",
    "\n",
    "\n",
    "\n",
    "Y = np.load('./data/GeometricMeasures.npy', allow_pickle=True)\n",
    "\n",
    "LenRatios = np.load('./data/Length_Ratios.npy', allow_pickle=True)\n",
    "\n",
    "\n",
    "X_LIMITS = np.load('./data/X_LIMITS.npy')\n",
    "\n",
    "print(X_LIMITS.shape)\n",
    "\n",
    "X_lower_lim = [X_LIMITS[:,0].tolist()]                   \n",
    "X_upper_lim = [X_LIMITS[:,1].tolist()]\n",
    "\n"
   ]
  },
  {
   "cell_type": "code",
   "execution_count": 3,
   "metadata": {},
   "outputs": [
    {
     "name": "stdout",
     "output_type": "stream",
     "text": [
      "(array([77257, 77257, 77257, 77257]), array([1, 2, 3, 4]))\n",
      "(82168, 101)\n",
      "(82168,)\n"
     ]
    },
    {
     "name": "stderr",
     "output_type": "stream",
     "text": [
      "/tmp/ipykernel_84166/214063027.py:4: RuntimeWarning: invalid value encountered in log10\n",
      "  VolVec = np.log10(Y[:,1*num_WL_Steps:2*num_WL_Steps])\n"
     ]
    }
   ],
   "source": [
    "#Set up Conditioning Vectors:\n",
    "num_WL_Steps = 101\n",
    "\n",
    "VolVec = np.log10(Y[:,1*num_WL_Steps:2*num_WL_Steps])\n",
    "idx = np.where(np.isnan(VolVec))\n",
    "print(idx)\n",
    "\n",
    "VolVec[idx] = -6.0 #fix nan to dummy value\n",
    "\n",
    "print(VolVec.shape)\n",
    "\n",
    "DdVec = DesVec[:,4]\n",
    "BOAVec = np.amax(LenRatios[:,1:3], axis=1)\n",
    "print(BOAVec.shape) \n",
    "\n",
    "\n",
    "\n",
    "\n"
   ]
  },
  {
   "cell_type": "code",
   "execution_count": 4,
   "metadata": {},
   "outputs": [],
   "source": [
    "# Set up the file for architecting the network, diffusion parameters, and training\n",
    "\n",
    "DDPM_Dict = {\n",
    "        'xdim' : len(DesVec[0])-1,             # Dimension of parametric design vector\n",
    "        'datalength': len(DesVec),           # number of samples\n",
    "        'X_LL' : X_lower_lim,           # lower limits of parametric design vector variables\n",
    "        'X_UL' : X_upper_lim,\n",
    "        'ydim': 0,                       # Number of objectives\n",
    "        'cdim': 4,                      # number of conditioning inputs\n",
    "        'gamma' : 0.2,                  # weight of feasibility guidance for guided sampling\n",
    "        'lambda': [0.3,0.3],                 # weight of drag  guidance for guided sampling\n",
    "        #'lambdas': [1,1,1,1,1,1,1],     # dummy variable for performance guided sampling\n",
    "        'tdim': 128,                    # dimension of latent variable\n",
    "        'net': [1024,1024,1024,1024],   # network architecture\n",
    "        'batch_size': 1024,             # batch size\n",
    "        'Training_Epochs': 10000,      # number of training epochs\n",
    "        'Diffusion_Timesteps': 1000,    # number of diffusion timesteps\n",
    "        'lr' : 0.00025,                 # learning rate\n",
    "        'weight_decay': 0.0,            # weight decay\n",
    "        'device_name': 'cuda:0'}        # gpu device name\n",
    "\n",
    "\n",
    "Classify_Dict = {\n",
    "        'xdim' : len(DesVec[0])-1,\n",
    "        'cdim': 1,\n",
    "        'tdim': 128,\n",
    "        'net': [64,64,64],\n",
    "        'Training_Epochs': 150000,\n",
    "        'device_name': 'cuda:0'}\n",
    "\n",
    "nodes = 512\n",
    "Drag_Reg_Dict = {\n",
    "        'xdim' : len(DesVec[0])-1,              # Dimension of parametric design vector\n",
    "        'ydim': 1,                              # trains regression model for each objective\n",
    "        'tdim': nodes,                            # dimension of latent variable\n",
    "        'net': [nodes,nodes,nodes,nodes],                       # network architecture        \n",
    "        'Training_Epochs': 50000,  #30000             # number of training epochs\n",
    "        'batch_size': 1024,                       # batch size\n",
    "        'Model_Label': 'Regressor_CT',         # labels for regressors       \n",
    "        'lr' : 0.001,                          # learning rate\n",
    "        'weight_decay': 0.0,                   # weight decay\n",
    "        'device_name': 'cuda:0'} \n",
    "\n",
    "nodes = 256\n",
    "LOA_wBulb_Reg_Dict = {\n",
    "        'xdim' : len(DesVec[0])-1,              # Dimension of parametric design vector\n",
    "        'ydim': 1,                              # trains regression model for each objective\n",
    "        'tdim': nodes,                            # dimension of latent variable\n",
    "        'net': [nodes,nodes,nodes],                       # network architecture        \n",
    "        'Training_Epochs': 150000,               # number of training epochs\n",
    "        'batch_size': 1024,                       # batch size\n",
    "        'Model_Label': 'Regressor_LOA_wBulb',         # labels for regressors\n",
    "                    \n",
    "        'lr' : 0.001,                          # learning rate\n",
    "        'weight_decay': 0.0,                   # weight decay\n",
    "        'device_name': 'cuda:0'}   \n",
    "\n",
    "WL_Reg_Dict = {\n",
    "        \"xdim\": len(DesVec[0]),\n",
    "        \"ydim\": 1, \n",
    "        \"tdim\": 512, \n",
    "        \"net\": [512, 512, 512], \n",
    "        \"Training_Epochs\": 30000, \n",
    "        \"batch_size\": 1024, \n",
    "        \"Model_Label\": \n",
    "        \"Regressor_WL\", \n",
    "        \"lr\": 0.001, \n",
    "        \"weight_decay\": 0.0, \n",
    "        \"device_name\": \"cuda:0\"}\n",
    "\n",
    "Vol_Reg_Dict = {\n",
    "                \"xdim\": len(DesVec[0]), \n",
    "                \"ydim\": 1, \n",
    "                \"tdim\": 512, \n",
    "                \"net\": [512, 512, 512], \n",
    "                \"Training_Epochs\": 30000, \n",
    "                \"batch_size\": 1024, \n",
    "                \"Model_Label\": \"Regressor_WL\", \n",
    "                \"lr\": 0.001, \n",
    "                \"weight_decay\": 0.0, \n",
    "                \"device_name\": \"cuda:0\"}\n",
    "\n",
    "\n",
    "\n",
    "\n",
    "T = GC_DDPM.GuidedDiffusionEnv(DDPM_Dict,\n",
    "                Classify_Dict,\n",
    "                Drag_Reg_Dict,\n",
    "                LOA_wBulb_Reg_Dict,\n",
    "                WL_Reg_Dict,\n",
    "                Vol_Reg_Dict,\n",
    "                X= DesVec[:,1:],\n",
    "                X_neg= DesVec_neg,\n",
    "                VolVec = VolVec, \n",
    "                BOAVec = BOAVec, \n",
    "                DdVec = DdVec)\n",
    "\n",
    "\n"
   ]
  },
  {
   "cell_type": "code",
   "execution_count": 5,
   "metadata": {},
   "outputs": [],
   "source": [
    "# Train the Model:\n",
    "\n",
    "'''\n",
    "================================================\n",
    "train diffusion model\n",
    "==================================================\n",
    "'''\n",
    "'''\n",
    "T.run_train_diffusion_loop(batches_per_epoch=1)\n",
    "\n",
    "\n",
    "PATH =  './TrainedModels/'\n",
    "\n",
    "name = 'CShipGen_Test'\n",
    "\n",
    "T.Save_diffusion_model(PATH, name)\n",
    "\n",
    "'''\n",
    "                   \n",
    "diffusion_path = './TrainedModels/CShipGen_diffusion.pth'\n",
    "T.load_trained_diffusion_model(diffusion_path)\n"
   ]
  },
  {
   "cell_type": "code",
   "execution_count": 6,
   "metadata": {},
   "outputs": [],
   "source": [
    "'''\n",
    "===================================================\n",
    "train classifier\n",
    "===================================================\n",
    "'''\n",
    "'''\n",
    "T.run_train_classifier_loop(batches_per_epoch=1)\n",
    "\n",
    "PATH =  './TrainedModels/'\n",
    "\n",
    "name = 'Constraint_Classifier' +'_'+ str(Classify_Dict['Training_Epochs']) + 'Epochs'\n",
    "\n",
    "T.Save_classifier_model(PATH, name)\n",
    "\n",
    "'''\n",
    "classifier_path = './TrainedModels/Constraint_Classifier_150000Epochs.pth' \n",
    "\n",
    "T.load_trained_classifier_model(classifier_path)\n",
    "\n",
    "\n"
   ]
  },
  {
   "cell_type": "code",
   "execution_count": 7,
   "metadata": {},
   "outputs": [],
   "source": [
    "'''\n",
    "===================================================\n",
    "Load Regression Models\n",
    "==================================================\n",
    "'''\n",
    "PATHS = ['./TrainedModels/Regressor_CT.pth',\n",
    "        './TrainedModels/Regressor_LOA_wBulb.pth',\n",
    "        './TrainedModels/Regressor_WL.pth',\n",
    "        './TrainedModels/Regressor_Vol.pth']\n",
    "#LOA_Reg_Path = './TrainedModels/Regressor_LOA_wBulb.pth'\n",
    "\n",
    "T.load_trained_Drag_regression_models(PATHS)\n"
   ]
  },
  {
   "cell_type": "code",
   "execution_count": 8,
   "metadata": {},
   "outputs": [],
   "source": [
    "#Sample from the Model:\n",
    "num_samples = 512\n",
    "\n"
   ]
  },
  {
   "cell_type": "code",
   "execution_count": null,
   "metadata": {},
   "outputs": [],
   "source": []
  },
  {
   "cell_type": "markdown",
   "metadata": {},
   "source": [
    "### Define Ship Types: ###"
   ]
  },
  {
   "cell_type": "code",
   "execution_count": 10,
   "metadata": {},
   "outputs": [],
   "source": [
    "# Run the Loop on the other samples: \n",
    "\n",
    "\n",
    "Ships = np.array([[333, 42.624, 11.28, 29.064, 97561,16], #Nimitz Class Carrier [LOA(m), BOA(m), T(m), Dd(m), Vol(m^3), U(m/s)] \n",
    "                  [3.8, .787, .15, .438, .166, 1.5], #Kayak [LOA(m), BOA(m), T(m), Dd(m), Vol(m^3), U(m/s)]\n",
    "                  [366, 50, 15.2, 40, 182114, 10.3], #Neo-Panamax Container Ship [LOA(m), BOA(m), T(m), Dd(m), Vol(m^3), U(m/s)]\n",
    "                  [127, 16,6.9,11, 4488, 14.4], #NSC [LOA(m), BOA(m), T(m), Dd(m), Vol(m^3), U(m/s)]\n",
    "                  [72,20,3.2,4.8, 3917, 6.17] #ROPAX ferry [LOA(m), BOA(m), T(m), Dd(m), Vol(m^3), U(m/s)]\n",
    "                  ])\n",
    "\n",
    "Labels = ['Nimitz', 'Kayak', 'Neo-Panamax Container Ship', 'NSC', 'ROPAX ferry']\n"
   ]
  },
  {
   "cell_type": "code",
   "execution_count": 12,
   "metadata": {},
   "outputs": [
    {
     "name": "stdout",
     "output_type": "stream",
     "text": [
      "Generating Hulls\n"
     ]
    },
    {
     "name": "stderr",
     "output_type": "stream",
     "text": [
      "100%|██████████| 999/999 [00:00<00:00, 1729.67it/s]\n",
      "100%|██████████| 967/967 [00:01<00:00, 705.64it/s]\n",
      "100%|██████████| 32/32 [00:00<00:00, 1833.05it/s]\n"
     ]
    },
    {
     "name": "stdout",
     "output_type": "stream",
     "text": [
      "(512, 45)\n",
      "Predicted Mean Drag of Guidance samples: 15231220.0 N\n",
      "Minimum Drag of Guidance samples: 4729666.0 N\n",
      "Checking Feasibility of Samples\n"
     ]
    },
    {
     "name": "stderr",
     "output_type": "stream",
     "text": [
      "100%|██████████| 512/512 [00:00<00:00, 12189.21it/s]\n"
     ]
    },
    {
     "name": "stdout",
     "output_type": "stream",
     "text": [
      "344\n"
     ]
    },
    {
     "name": "stderr",
     "output_type": "stream",
     "text": [
      " 93%|█████████▎| 321/344 [01:32<00:05,  4.22it/s]"
     ]
    },
    {
     "name": "stdout",
     "output_type": "stream",
     "text": [
      "error at hull 320\n"
     ]
    },
    {
     "name": "stderr",
     "output_type": "stream",
     "text": [
      "100%|██████████| 344/344 [01:39<00:00,  3.45it/s]\n"
     ]
    },
    {
     "name": "stdout",
     "output_type": "stream",
     "text": [
      "343\n",
      "Caclculating Dimensional Error in Samples:\n",
      "Volume MEAP: 5.674350111221907%\n",
      "Beam MEAP: 2.269618233428236%\n",
      "Depth MEAP: 1.4845068429105315%\n",
      "Length MEAP: 0.0%\n",
      "Length wBulb MEAP: 1.5441456147080563%\n",
      "Generating STLs\n"
     ]
    },
    {
     "name": "stderr",
     "output_type": "stream",
     "text": [
      "100%|██████████| 5/5 [00:01<00:00,  2.73it/s]\n"
     ]
    },
    {
     "name": "stdout",
     "output_type": "stream",
     "text": [
      "Generating Hulls\n"
     ]
    },
    {
     "name": "stderr",
     "output_type": "stream",
     "text": [
      "100%|██████████| 999/999 [00:00<00:00, 1875.32it/s]\n",
      "100%|██████████| 967/967 [00:01<00:00, 739.36it/s]\n",
      "100%|██████████| 32/32 [00:00<00:00, 1761.69it/s]\n"
     ]
    },
    {
     "name": "stdout",
     "output_type": "stream",
     "text": [
      "(512, 45)\n",
      "Predicted Mean Drag of Guidance samples: 17.397175 N\n",
      "Minimum Drag of Guidance samples: 6.3538647 N\n",
      "Checking Feasibility of Samples\n"
     ]
    },
    {
     "name": "stderr",
     "output_type": "stream",
     "text": [
      "100%|██████████| 512/512 [00:00<00:00, 11928.87it/s]\n"
     ]
    },
    {
     "name": "stdout",
     "output_type": "stream",
     "text": [
      "471\n"
     ]
    },
    {
     "name": "stderr",
     "output_type": "stream",
     "text": [
      " 13%|█▎        | 59/471 [00:17<02:00,  3.43it/s]/home/ada/C_ShipGen/./tools/HullParameterization.py:2074: RuntimeWarning: invalid value encountered in scalar divide\n",
      "  cx = self.PCMeasurement[i,j-1,0] + dx/3.0 * (2.0*a + b) / (a + b)\n",
      "/home/ada/C_ShipGen/./tools/HullParameterization.py:2120: RuntimeWarning: invalid value encountered in scalar divide\n",
      "  cx = self.PCMeasurement[i,j-1,0] + dx/3.0 * (2.0*a+b)/(a+b)\n",
      "/home/ada/C_ShipGen/./tools/HullParameterization.py:2124: RuntimeWarning: invalid value encountered in scalar divide\n",
      "  Iyy = Iyy + dx**3.0 * (a**2.0 + 4.0*a*b + b**2.0)/(36*(a+b)) + 0.5*(a+b)*dx*(self.LCFs[i] - cx)**2.0\n",
      " 39%|███▉      | 184/471 [00:54<01:29,  3.20it/s]"
     ]
    },
    {
     "name": "stdout",
     "output_type": "stream",
     "text": [
      "error at hull 184\n"
     ]
    },
    {
     "name": "stderr",
     "output_type": "stream",
     "text": [
      " 46%|████▌     | 217/471 [01:03<01:12,  3.52it/s]"
     ]
    },
    {
     "name": "stdout",
     "output_type": "stream",
     "text": [
      "error at hull 217\n"
     ]
    },
    {
     "name": "stderr",
     "output_type": "stream",
     "text": [
      " 58%|█████▊    | 273/471 [01:20<00:58,  3.39it/s]"
     ]
    },
    {
     "name": "stdout",
     "output_type": "stream",
     "text": [
      "error at hull 273\n"
     ]
    },
    {
     "name": "stderr",
     "output_type": "stream",
     "text": [
      " 64%|██████▍   | 302/471 [01:28<00:50,  3.38it/s]"
     ]
    },
    {
     "name": "stdout",
     "output_type": "stream",
     "text": [
      "error at hull 302\n"
     ]
    },
    {
     "name": "stderr",
     "output_type": "stream",
     "text": [
      "100%|██████████| 471/471 [02:17<00:00,  3.43it/s]\n"
     ]
    },
    {
     "name": "stdout",
     "output_type": "stream",
     "text": [
      "467\n",
      "Caclculating Dimensional Error in Samples:\n",
      "Volume MEAP: 3.0519209134493455%\n",
      "Beam MEAP: 1.3867151561673734%\n",
      "Depth MEAP: 1.5359969751226241%\n",
      "Length MEAP: 1.2548346221757058e-06%\n",
      "Length wBulb MEAP: 1.0774545893056404%\n",
      "Generating STLs\n"
     ]
    },
    {
     "name": "stderr",
     "output_type": "stream",
     "text": [
      "100%|██████████| 5/5 [00:01<00:00,  2.73it/s]\n"
     ]
    },
    {
     "name": "stdout",
     "output_type": "stream",
     "text": [
      "Generating Hulls\n"
     ]
    },
    {
     "name": "stderr",
     "output_type": "stream",
     "text": [
      "100%|██████████| 999/999 [00:00<00:00, 1633.96it/s]\n",
      "100%|██████████| 967/967 [00:01<00:00, 714.20it/s]\n",
      "100%|██████████| 32/32 [00:00<00:00, 1803.81it/s]\n"
     ]
    },
    {
     "name": "stdout",
     "output_type": "stream",
     "text": [
      "(512, 45)\n",
      "Predicted Mean Drag of Guidance samples: 4472383.5 N\n",
      "Minimum Drag of Guidance samples: 1357314.4 N\n",
      "Checking Feasibility of Samples\n"
     ]
    },
    {
     "name": "stderr",
     "output_type": "stream",
     "text": [
      "100%|██████████| 512/512 [00:00<00:00, 12193.37it/s]\n"
     ]
    },
    {
     "name": "stdout",
     "output_type": "stream",
     "text": [
      "354\n"
     ]
    },
    {
     "name": "stderr",
     "output_type": "stream",
     "text": [
      " 61%|██████    | 216/354 [01:02<00:40,  3.37it/s]"
     ]
    },
    {
     "name": "stdout",
     "output_type": "stream",
     "text": [
      "error at hull 216\n"
     ]
    },
    {
     "name": "stderr",
     "output_type": "stream",
     "text": [
      "100%|██████████| 354/354 [01:42<00:00,  3.47it/s]\n"
     ]
    },
    {
     "name": "stdout",
     "output_type": "stream",
     "text": [
      "353\n",
      "Caclculating Dimensional Error in Samples:\n",
      "Volume MEAP: 5.170191379800331%\n",
      "Beam MEAP: 2.281078094301275%\n",
      "Depth MEAP: 1.4762743556128%\n",
      "Length MEAP: 0.0%\n",
      "Length wBulb MEAP: 1.7673781810670357%\n",
      "Generating STLs\n"
     ]
    },
    {
     "name": "stderr",
     "output_type": "stream",
     "text": [
      "100%|██████████| 5/5 [00:01<00:00,  2.53it/s]\n"
     ]
    },
    {
     "name": "stdout",
     "output_type": "stream",
     "text": [
      "Generating Hulls\n"
     ]
    },
    {
     "name": "stderr",
     "output_type": "stream",
     "text": [
      "100%|██████████| 999/999 [00:00<00:00, 1581.17it/s]\n",
      "100%|██████████| 967/967 [00:01<00:00, 637.20it/s]\n",
      "100%|██████████| 32/32 [00:00<00:00, 1513.20it/s]\n"
     ]
    },
    {
     "name": "stdout",
     "output_type": "stream",
     "text": [
      "(512, 45)\n",
      "Predicted Mean Drag of Guidance samples: 1471023.5 N\n",
      "Minimum Drag of Guidance samples: 684319.25 N\n",
      "Checking Feasibility of Samples\n"
     ]
    },
    {
     "name": "stderr",
     "output_type": "stream",
     "text": [
      "100%|██████████| 512/512 [00:00<00:00, 12415.86it/s]\n"
     ]
    },
    {
     "name": "stdout",
     "output_type": "stream",
     "text": [
      "476\n"
     ]
    },
    {
     "name": "stderr",
     "output_type": "stream",
     "text": [
      "100%|██████████| 476/476 [02:19<00:00,  3.42it/s]\n"
     ]
    },
    {
     "name": "stdout",
     "output_type": "stream",
     "text": [
      "476\n",
      "Caclculating Dimensional Error in Samples:\n",
      "Volume MEAP: 5.400567600851809%\n",
      "Beam MEAP: 6.136348557752804%\n",
      "Depth MEAP: 1.500586670509635%\n",
      "Length MEAP: 0.0%\n",
      "Length wBulb MEAP: 0.0%\n",
      "Generating STLs\n"
     ]
    },
    {
     "name": "stderr",
     "output_type": "stream",
     "text": [
      "100%|██████████| 5/5 [00:01<00:00,  2.90it/s]\n"
     ]
    },
    {
     "name": "stdout",
     "output_type": "stream",
     "text": [
      "Generating Hulls\n"
     ]
    },
    {
     "name": "stderr",
     "output_type": "stream",
     "text": [
      "100%|██████████| 999/999 [00:00<00:00, 1770.25it/s]\n",
      "100%|██████████| 967/967 [00:01<00:00, 707.52it/s]\n",
      "100%|██████████| 32/32 [00:00<00:00, 1741.75it/s]\n"
     ]
    },
    {
     "name": "stdout",
     "output_type": "stream",
     "text": [
      "(512, 45)\n",
      "Predicted Mean Drag of Guidance samples: 576286.7 N\n",
      "Minimum Drag of Guidance samples: 93100.98 N\n",
      "Checking Feasibility of Samples\n"
     ]
    },
    {
     "name": "stderr",
     "output_type": "stream",
     "text": [
      "100%|██████████| 512/512 [00:00<00:00, 11957.10it/s]\n"
     ]
    },
    {
     "name": "stdout",
     "output_type": "stream",
     "text": [
      "286\n"
     ]
    },
    {
     "name": "stderr",
     "output_type": "stream",
     "text": [
      "100%|██████████| 286/286 [01:18<00:00,  3.63it/s]\n"
     ]
    },
    {
     "name": "stdout",
     "output_type": "stream",
     "text": [
      "286\n",
      "Caclculating Dimensional Error in Samples:\n",
      "Volume MEAP: 16.299652867471146%\n",
      "Beam MEAP: 5.151466763572184%\n",
      "Depth MEAP: 1.799024443526363%\n",
      "Length MEAP: 0.0%\n",
      "Length wBulb MEAP: 6.136557194198536%\n",
      "Generating STLs\n"
     ]
    },
    {
     "name": "stderr",
     "output_type": "stream",
     "text": [
      "100%|██████████| 5/5 [00:01<00:00,  2.79it/s]\n"
     ]
    }
   ],
   "source": [
    "\n",
    "# Run the Loop on the other samples:\n",
    "\n",
    "for j in range(0,len(Ships)):\n",
    "\n",
    "    Study_Label = 'Study_' + str(j) + '_' + Labels[j]\n",
    "\n",
    "    #print(Labels[j]) \n",
    "\n",
    "    print('Generating Hulls')\n",
    "\n",
    "    LOA = Ships[j,0] #in meters\n",
    "    BoL = Ships[j,1]/LOA #beam to length ratio\n",
    "    ToD = Ships[j,2]/Ships[j,3] #Draft to depth ratio\n",
    "    DoL = Ships[j, 3]/LOA #Depth to length ratio\n",
    "    Vol = np.log10(Ships[j,4]/LOA**3) # to normalize Volume by LOA**3\n",
    "    \n",
    "    U = Ships[j,5]  #  12.86 #m/s  = 25 knots\n",
    "\n",
    "    dim_d = np.array([[ToD, U, LOA]]) #Drag_conditioning is [ToD, U(m/s), LOA (m)]\n",
    "\n",
    "    drag_cond = np.repeat(dim_d, num_samples, axis=0) #reapeat \n",
    "    #print(cond.shape)\n",
    "\n",
    "\n",
    "    dim_g = np.array([[ToD, BoL, DoL, Vol]])\n",
    "\n",
    "    geom_cond = np.repeat(dim_g, num_samples, axis=0) #reapeat \n",
    "    #print(cond.shape)\n",
    "\n",
    "\n",
    "    # Gen Samples:\n",
    "    X_gen_cond, unnorm_cond_only = T.gen_cond_samples(geom_cond)\n",
    "    X_gen, unnorm = T.gen_vol_drag_guided_samples(geom_cond, drag_cond)\n",
    "\n",
    "    print(X_gen.shape)\n",
    "\n",
    "\n",
    "    Rt_guidance = T.Predict_Drag(unnorm, drag_cond)\n",
    "    Drag_Guidance = np.mean(Rt_guidance)\n",
    "\n",
    "\n",
    "    print('Predicted Mean Drag of Guidance samples: ' + str(Drag_Guidance) + ' N')\n",
    "    print('Minimum Drag of Guidance samples: ' + str(np.amin(Rt_guidance)) + ' N')\n",
    "\n",
    "\n",
    "    x_samples = X_gen\n",
    "\n",
    "    #print(x_samples[0:3])\n",
    "        \n",
    "    print('Checking Feasibility of Samples')\n",
    "\n",
    "    for i in range(0,len(x_samples)):\n",
    "        \n",
    "        x_samples[i,idx_BB] = (x_samples[i,idx_BB] + 0.5) // 1 #int rounds to 1 or 0\n",
    "        x_samples[i,idx_SB] = (x_samples[i,idx_SB] + 0.5) // 1 #int rounds to 1 or 0\n",
    "        \n",
    "        \n",
    "        x_samples[i,idx_BBFactors] = x_samples[i,idx_BB] * x_samples[i,idx_BBFactors] \n",
    "        x_samples[i,idx_SBFactors] = x_samples[i,idx_SB] * x_samples[i,idx_SBFactors]\n",
    "\n",
    "\n",
    "\n",
    "    #Check the constraint violations for the sampled designs\n",
    "    constraints = []\n",
    "    sum_violation = []\n",
    "    cons = []\n",
    "    valid_idx = []\n",
    "\n",
    "    for i in tqdm(range(0,len(x_samples))):\n",
    "        hull = HP(x_samples[i])\n",
    "        constraints.append(hull.input_Constraints())\n",
    "        cons.append(constraints[i] > 0)\n",
    "        if sum(cons[i]) == 0:\n",
    "            valid_idx.append(i)\n",
    "            #hull.Calc_VolumeProperties(NUM_WL = 101, PointsPerWL = 1000)\n",
    "        sum_violation.append(sum(cons[i]))\n",
    "\n",
    "    print(len(valid_idx))\n",
    "    sample_vol = []\n",
    "    sample_BOA = []\n",
    "    sample_Dd = []\n",
    "    sample_LOA = []\n",
    "    sample_LOA_wBulb = []\n",
    "    idx_to_remove = []\n",
    "\n",
    "    for i in tqdm(range(0,len(valid_idx))):\n",
    "        hull = HP(x_samples[valid_idx[i]]) \n",
    "        #print(i)\n",
    "        try:\n",
    "            Z = hull.Calc_VolumeProperties(NUM_WL = 101, PointsPerWL = 1000)    \n",
    "            sample_vol.append(HP.interp(hull.Volumes, Z, Ships[j,2])) #interpolate to the draft of the ship\n",
    "            BOA = max(hull.Calc_Max_Beam_midship(), hull.Calc_Max_Beam_PC())\n",
    "            sample_BOA.append(BOA)\n",
    "            sample_Dd.append(hull.Dd)\n",
    "            sample_LOA.append(hull.LOA)\n",
    "            sample_LOA_wBulb.append(hull.Calc_LOA_wBulb())\n",
    "        except:\n",
    "            print('error at hull {}'.format(i))\n",
    "            idx_to_remove.append(i)\n",
    "\n",
    "            continue\n",
    "\n",
    "    #Remove the samples that failed to calculate volume properties\n",
    "    valid_idx = np.delete(valid_idx, idx_to_remove)\n",
    "    print(len(valid_idx))\n",
    "        \n",
    "\n",
    "\n",
    "    np.save('./' + Study_Label + '_Conditioning_Only_DesVec.npy',X_gen_cond)\n",
    "    np.save('./' + Study_Label + '_Drag_Guidance_DesVec.npy',x_samples[valid_idx])\n",
    "    np.save('./' + Study_Label + '_Rt_pred.npy',Rt_guidance[valid_idx])\n",
    "\n",
    "    print('Caclculating Dimensional Error in Samples:')\n",
    "\n",
    "    sample_vol = np.array(sample_vol)\n",
    "    sample_BOA = np.array(sample_BOA)\n",
    "    sample_Dd = np.array(sample_Dd)\n",
    "    sample_LOA = np.array(sample_LOA)\n",
    "    sample_LOA_wBulb = np.array(sample_LOA_wBulb)\n",
    "\n",
    "    VolMEAP = np.mean(np.abs(sample_vol - Ships[j,4])/Ships[j,4])*100\n",
    "    print('Volume MEAP: {}%'.format(VolMEAP))\n",
    "\n",
    "    BOAMEAP = np.mean(np.abs(sample_BOA - Ships[j,1])/Ships[j,1])*100\n",
    "    print('Beam MEAP: {}%'.format(BOAMEAP))\n",
    "\n",
    "    DdMEAP = np.mean(np.abs(sample_Dd - Ships[j,3])/Ships[j,3])*100\n",
    "    print('Depth MEAP: {}%'.format(DdMEAP))\n",
    "\n",
    "    LOAMEAP = np.mean(np.abs(sample_LOA - Ships[j,0])/Ships[j,0])*100\n",
    "    print('Length MEAP: {}%'.format(LOAMEAP))\n",
    "\n",
    "    LOA_wBulbMEAP = np.mean(np.abs(sample_LOA_wBulb - Ships[j,0])/Ships[j,0])*100\n",
    "    print('Length wBulb MEAP: {}%'.format(LOA_wBulbMEAP))\n",
    "\n",
    "    print('Generating STLs')\n",
    "    #generate 5 hulls each\n",
    "    for i in tqdm(range(0,5)):\n",
    "        Hull = HP(x_samples[valid_idx[i]])\n",
    "\n",
    "        #Check Constriants:\n",
    "        constraints = Hull.input_Constraints()\n",
    "        cons = constraints > 0\n",
    "        #print(sum(cons)) # should be zero\n",
    "        #make the .stl file of the hull:\n",
    "        try:\n",
    "            strpath =  './' + Study_Label + '_Hull_'  + str(i)\n",
    "            mesh = Hull.gen_stl(NUM_WL=100, PointsPerWL=800, bit_AddTransom = 1, bit_AddDeckLid = 1, namepath = strpath)\n",
    "        except:\n",
    "            print('error at hull {}'.format(i))\n",
    "            continue\n",
    "\n",
    "\n",
    "\n",
    "    "
   ]
  }
 ],
 "metadata": {
  "kernelspec": {
   "display_name": "base",
   "language": "python",
   "name": "python3"
  },
  "language_info": {
   "codemirror_mode": {
    "name": "ipython",
    "version": 3
   },
   "file_extension": ".py",
   "mimetype": "text/x-python",
   "name": "python",
   "nbconvert_exporter": "python",
   "pygments_lexer": "ipython3",
   "version": "3.11.4"
  }
 },
 "nbformat": 4,
 "nbformat_minor": 2
}
