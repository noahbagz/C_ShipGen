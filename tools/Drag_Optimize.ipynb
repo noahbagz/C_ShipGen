{
 "cells": [
  {
   "cell_type": "markdown",
   "metadata": {},
   "source": [
    "### Optimize Drag with Neural Networks and NSGA2 ###"
   ]
  },
  {
   "cell_type": "code",
   "execution_count": 1,
   "metadata": {},
   "outputs": [],
   "source": [
    "# import the fun\n",
    "import sys\n",
    "import numpy as np\n",
    "from tqdm import tqdm\n",
    "import math\n",
    "import matplotlib.pyplot as plt\n",
    "import torch\n",
    "import torch.nn as nn\n",
    "import torch.nn.functional as F\n",
    "import Guided_Cond_DDPM_Tools as GC_DDPM\n",
    "\n",
    "import Optimization_Tools as OT\n",
    "\n",
    "from sklearn.decomposition import PCA\n",
    "\n",
    "from pymoo.algorithms.moo.nsga2 import NSGA2\n",
    "from pymoo.algorithms.soo.nonconvex.ga import GA\n",
    "from pymoo.core.problem import Problem\n",
    "from pymoo.optimize import minimize\n",
    "\n",
    "\n",
    "\n",
    "sys.path.append('/home/ada/Documents/HullParameterization')\n",
    "from HullParameterization import Hull_Parameterization as HP\n",
    "\n",
    "np.set_printoptions(suppress=True) # don't use scientific notation"
   ]
  },
  {
   "cell_type": "code",
   "execution_count": 2,
   "metadata": {},
   "outputs": [
    {
     "name": "stdout",
     "output_type": "stream",
     "text": [
      "(82168, 45)\n",
      "(45, 2)\n"
     ]
    }
   ],
   "source": [
    "#Upload important info\n",
    "Reg_PATHS = ['./TrainedModels/Regressor_CT.pth',\n",
    "        './TrainedModels/Regressor_LOA_wBulb.pth',\n",
    "        './TrainedModels/Regressor_WL.pth']\n",
    "\n",
    "DesVec_82k = np.load('DesVec_82k.npy', allow_pickle=True)\n",
    "print(DesVec_82k.shape)\n",
    "\n",
    "X_LIMITS = np.zeros((len(DesVec_82k[0]), 2))\n",
    "\n",
    "X_LIMITS[1:] = np.load('/home/ada/Documents/HullParameterization/HullDiffusion/Restructured_Dataset/X_LIMITS.npy')\n",
    "print(X_LIMITS.shape)"
   ]
  },
  {
   "cell_type": "code",
   "execution_count": 3,
   "metadata": {},
   "outputs": [],
   "source": [
    "# Regression Model Setup\n",
    "\n",
    "nodes = 512\n",
    "Drag_Reg_Dict = {\n",
    "        'xdim' : 44,              # Dimension of parametric design vector\n",
    "        'ydim': 1,                              # trains regression model for each objective\n",
    "        'tdim': nodes,                            # dimension of latent variable\n",
    "        'net': [nodes,nodes,nodes,nodes],                       # network architecture        \n",
    "        'Training_Epochs': 50000,  #30000             # number of training epochs\n",
    "        'batch_size': 1024,                       # batch size\n",
    "        'Model_Label': 'Regressor_CT',         # labels for regressors       \n",
    "        'lr' : 0.001,                          # learning rate\n",
    "        'weight_decay': 0.0,                   # weight decay\n",
    "        'device_name': 'cuda:0'} \n",
    "\n",
    "nodes = 256\n",
    "LOA_wBulb_Reg_Dict = {\n",
    "        'xdim' : 44,              # Dimension of parametric design vector\n",
    "        'ydim': 1,                              # trains regression model for each objective\n",
    "        'tdim': nodes,                            # dimension of latent variable\n",
    "        'net': [nodes,nodes,nodes],                       # network architecture        \n",
    "        'Training_Epochs': 150000,               # number of training epochs\n",
    "        'batch_size': 1024,                       # batch size\n",
    "        'Model_Label': 'Regressor_LOA_wBulb',         # labels for regressors\n",
    "                    \n",
    "        'lr' : 0.001,                          # learning rate\n",
    "        'weight_decay': 0.0,                   # weight decay\n",
    "        'device_name': 'cuda:0'}   \n",
    "\n",
    "WL_Reg_Dict = {\n",
    "        \"xdim\": 45,\n",
    "        \"ydim\": 1, \n",
    "        \"tdim\": 512, \n",
    "        \"net\": [512, 512, 512], \n",
    "        \"Training_Epochs\": 30000, \n",
    "        \"batch_size\": 1024, \n",
    "        \"Model_Label\": \n",
    "        \"Regressor_WL\", \n",
    "        \"lr\": 0.001, \n",
    "        \"weight_decay\": 0.0, \n",
    "        \"device_name\": \"cuda:0\"}"
   ]
  },
  {
   "cell_type": "code",
   "execution_count": 4,
   "metadata": {},
   "outputs": [
    {
     "data": {
      "text/plain": [
       "'\\nXopt = res.pop.get(\\'X\\')\\nFopt = res.pop.get(\\'F\\')\\n\\n#Xopt_seeded = res2.pop.get(\\'X\\')\\n#Fopt_seeded = res2.pop.get(\\'F\\')\\n\\n\\n\\nFminHist =  [e.opt.get(\"F\")[0] for e in res.history]\\n#FminHist_seeded =  [e.opt.get(\"F\")[0] for e in res2.history]\\n\\nplt.ylim([0,2e7])\\nplt.plot(np.arange(len(FminHist)), FminHist)\\n#plt.plot(np.arange(len(FminHist_seeded)), FminHist_seeded)\\n\\nplt.show()\\n\\n\\n#print(FminHist[-1])\\n'"
      ]
     },
     "execution_count": 4,
     "metadata": {},
     "output_type": "execute_result"
    }
   ],
   "source": [
    "'''\n",
    "Xopt = res.pop.get('X')\n",
    "Fopt = res.pop.get('F')\n",
    "\n",
    "#Xopt_seeded = res2.pop.get('X')\n",
    "#Fopt_seeded = res2.pop.get('F')\n",
    "\n",
    "\n",
    "\n",
    "FminHist =  [e.opt.get(\"F\")[0] for e in res.history]\n",
    "#FminHist_seeded =  [e.opt.get(\"F\")[0] for e in res2.history]\n",
    "\n",
    "plt.ylim([0,2e7])\n",
    "plt.plot(np.arange(len(FminHist)), FminHist)\n",
    "#plt.plot(np.arange(len(FminHist_seeded)), FminHist_seeded)\n",
    "\n",
    "plt.show()\n",
    "\n",
    "\n",
    "#print(FminHist[-1])\n",
    "'''\n",
    "\n",
    "\n"
   ]
  },
  {
   "cell_type": "code",
   "execution_count": 5,
   "metadata": {},
   "outputs": [
    {
     "data": {
      "text/plain": [
       "'\\nfrom sklearn.decomposition import PCA\\npca = PCA(n_components = 2)\\n\\npca.fit(DesVec_82k[:,1:])\\nX1 = x_samples[valid_idx]\\n\\nA = np.random.randint(0,len(DesVec_82k),100)\\nB = np.random.randint(0,len(X1),100)\\n\\ncomponents_dataset = pca.transform(DesVec_82k[A,1:])\\n\\ncomp = pca.transform(X1[B,1:])\\n\\n\\n\\nplt.rcParams[\\'font.family\\'] = \\'serif\\'\\n\\nplt.rcParams[\\'font.size\\'] = \\'8\\' \\n\\n\\nfig, axs = plt.subplots(1, 1) #, sharex=\\'all\\',sharey=\\'all\\')\\nfig.figsize = (4.5,3)\\nfig.dpi = 300\\n\\ntitle = \\'PCA Distribution of Generated Parameters\\'\\n\\n  \\n\\n\\n#plt.xlim([-40,40])\\n#plt.ylim([-40,40])\\nplt.title = title\\nplt.xticks( fontsize=8)\\nplt.yticks( fontsize=8)\\n\\n\\n\\naxs.spines[\"right\"].set_visible(False)\\naxs.spines[\"top\"].set_visible(False)\\naxs.set_title(title, fontsize = 8)\\n\\naxs.plot(components_dataset[:,0], components_dataset[:,1], \\'o\\', color = (1,0.5,0.5), alpha=0.5, markersize=5, label = \\'Dataset\\')\\n\\naxs.plot(comp[:,0], comp[:,1], \\'o\\', color = (0.2,0.2,1), markeredgecolor=\\'black\\', alpha= 1, markersize=5, label = \\'Interpolated Samples\\')\\n\\n    \\n\\naxs.set_xlabel(\\'X0\\', fontsize = 8)\\n\\naxs.set_ylabel(\\'X1\\', fontsize = 8)\\n\\nfig.tight_layout(pad=1.25)\\naxs.legend(fontsize = 8, loc = (0.75,-.15),frameon=False)\\n\\n#figpath = path + \\'Graphs_and_Images/Interp_Study_PCA.png\\'\\n#plt.savefig(figpath)\\n\\nplt.show()\\n'"
      ]
     },
     "execution_count": 5,
     "metadata": {},
     "output_type": "execute_result"
    }
   ],
   "source": [
    "'''\n",
    "from sklearn.decomposition import PCA\n",
    "pca = PCA(n_components = 2)\n",
    "\n",
    "pca.fit(DesVec_82k[:,1:])\n",
    "X1 = x_samples[valid_idx]\n",
    "\n",
    "A = np.random.randint(0,len(DesVec_82k),100)\n",
    "B = np.random.randint(0,len(X1),100)\n",
    "\n",
    "components_dataset = pca.transform(DesVec_82k[A,1:])\n",
    "\n",
    "comp = pca.transform(X1[B,1:])\n",
    "\n",
    "\n",
    "\n",
    "plt.rcParams['font.family'] = 'serif'\n",
    "\n",
    "plt.rcParams['font.size'] = '8' \n",
    "\n",
    "\n",
    "fig, axs = plt.subplots(1, 1) #, sharex='all',sharey='all')\n",
    "fig.figsize = (4.5,3)\n",
    "fig.dpi = 300\n",
    "\n",
    "title = 'PCA Distribution of Generated Parameters'\n",
    "\n",
    "  \n",
    "\n",
    "\n",
    "#plt.xlim([-40,40])\n",
    "#plt.ylim([-40,40])\n",
    "plt.title = title\n",
    "plt.xticks( fontsize=8)\n",
    "plt.yticks( fontsize=8)\n",
    "\n",
    "\n",
    "\n",
    "axs.spines[\"right\"].set_visible(False)\n",
    "axs.spines[\"top\"].set_visible(False)\n",
    "axs.set_title(title, fontsize = 8)\n",
    "\n",
    "axs.plot(components_dataset[:,0], components_dataset[:,1], 'o', color = (1,0.5,0.5), alpha=0.5, markersize=5, label = 'Dataset')\n",
    "\n",
    "axs.plot(comp[:,0], comp[:,1], 'o', color = (0.2,0.2,1), markeredgecolor='black', alpha= 1, markersize=5, label = 'Interpolated Samples')\n",
    "\n",
    "    \n",
    "\n",
    "axs.set_xlabel('X0', fontsize = 8)\n",
    "\n",
    "axs.set_ylabel('X1', fontsize = 8)\n",
    "\n",
    "fig.tight_layout(pad=1.25)\n",
    "axs.legend(fontsize = 8, loc = (0.75,-.15),frameon=False)\n",
    "\n",
    "#figpath = path + 'Graphs_and_Images/Interp_Study_PCA.png'\n",
    "#plt.savefig(figpath)\n",
    "\n",
    "plt.show()\n",
    "'''"
   ]
  },
  {
   "cell_type": "code",
   "execution_count": 6,
   "metadata": {},
   "outputs": [],
   "source": [
    "Ships = np.array([[333, 42.624, 11.28, 29.064, 97561, 16], #Nimitz Class Carrier [LOA(m), BOA(m), T(m), Dd(m), Vol(m^3), U(m/s)] \n",
    "                  [3.8, .787, .15, .438, .166, 1.5], #Kayak [LOA(m), BOA(m), T(m), Dd(m), Vol(m^3), U(m/s)]\n",
    "                  [366, 50, 15.2, 40, 182114, 10.3], #Neo-Panamax Container Ship [LOA(m), BOA(m), T(m), Dd(m), Vol(m^3), U(m/s)]\n",
    "                  [127, 16,6.9,11, 4488, 14.4], #NSC [LOA(m), BOA(m), T(m), Dd(m), Vol(m^3), U(m/s)]\n",
    "                  [72,20,3.2,4.8, 3917, 6.17] #ROPAX ferry [LOA(m), BOA(m), T(m), Dd(m), Vol(m^3), U(m/s)]\n",
    "                  ])\n",
    "\n",
    "Labels = ['Nimitz', 'Kayak', 'Neo-Panamax Container Ship', 'NSC', 'ROPAX ferry']"
   ]
  },
  {
   "cell_type": "code",
   "execution_count": null,
   "metadata": {},
   "outputs": [],
   "source": []
  },
  {
   "cell_type": "code",
   "execution_count": 7,
   "metadata": {},
   "outputs": [
    {
     "name": "stdout",
     "output_type": "stream",
     "text": [
      "Starting Study 4\n",
      "(45, 2)\n",
      "(100, 45)\n"
     ]
    },
    {
     "name": "stderr",
     "output_type": "stream",
     "text": [
      "100%|██████████| 100/100 [00:00<00:00, 11538.35it/s]"
     ]
    },
    {
     "name": "stdout",
     "output_type": "stream",
     "text": [
      "100\n",
      "Starting Optimization\n"
     ]
    },
    {
     "name": "stderr",
     "output_type": "stream",
     "text": [
      "\n"
     ]
    },
    {
     "name": "stdout",
     "output_type": "stream",
     "text": [
      "==========================================================================================\n",
      "n_gen  |  n_eval  | n_nds  |     cv_min    |     cv_avg    |      eps      |   indicator  \n",
      "==========================================================================================\n",
      "     1 |       98 |      1 |  4.305770E+01 |  2.066332E+03 |             - |             -\n"
     ]
    },
    {
     "name": "stderr",
     "output_type": "stream",
     "text": [
      "/home/ada/anaconda3/lib/python3.11/site-packages/pymoo/operators/crossover/sbx.py:47: RuntimeWarning: invalid value encountered in power\n",
      "  betaq[mask] = np.power((rand * alpha), (1.0 / (eta + 1.0)))[mask]\n"
     ]
    },
    {
     "name": "stdout",
     "output_type": "stream",
     "text": [
      "     2 |      198 |      1 |  0.2788729153 |  2.514318E+02 |             - |             -\n"
     ]
    },
    {
     "name": "stderr",
     "output_type": "stream",
     "text": [
      "/home/ada/anaconda3/lib/python3.11/site-packages/pymoo/operators/crossover/sbx.py:47: RuntimeWarning: invalid value encountered in power\n",
      "  betaq[mask] = np.power((rand * alpha), (1.0 / (eta + 1.0)))[mask]\n"
     ]
    },
    {
     "name": "stdout",
     "output_type": "stream",
     "text": [
      "     3 |      298 |      1 |  0.2788729153 |  2.802239E+01 |             - |             -\n"
     ]
    },
    {
     "name": "stderr",
     "output_type": "stream",
     "text": [
      "/home/ada/anaconda3/lib/python3.11/site-packages/pymoo/operators/crossover/sbx.py:47: RuntimeWarning: invalid value encountered in power\n",
      "  betaq[mask] = np.power((rand * alpha), (1.0 / (eta + 1.0)))[mask]\n"
     ]
    },
    {
     "name": "stdout",
     "output_type": "stream",
     "text": [
      "     4 |      398 |      1 |  0.2788729153 |  7.8807761091 |             - |             -\n",
      "     5 |      498 |      1 |  0.0751109425 |  3.5732862892 |             - |             -\n",
      "     6 |      598 |      1 |  0.0210739480 |  1.2799234534 |             - |             -\n",
      "     7 |      698 |      1 |  0.0210739480 |  0.7420739659 |             - |             -\n",
      "     8 |      798 |      1 |  0.0176224865 |  0.4149980084 |             - |             -\n",
      "     9 |      898 |      1 |  0.0163630346 |  0.2796158174 |             - |             -\n",
      "    10 |      998 |      1 |  0.0073473905 |  0.1832225432 |             - |             -\n",
      "    11 |     1098 |      1 |  0.0057505914 |  0.1057029833 |             - |             -\n",
      "    12 |     1198 |      1 |  0.0057505914 |  0.0590444797 |             - |             -\n",
      "    13 |     1298 |      1 |  0.0057505914 |  0.0356627664 |             - |             -\n",
      "    14 |     1398 |      1 |  0.0057505914 |  0.0195736612 |             - |             -\n",
      "    15 |     1498 |      1 |  0.0053281157 |  0.0151222495 |             - |             -\n",
      "    16 |     1598 |      1 |  0.0052033805 |  0.0127272960 |             - |             -\n",
      "    17 |     1698 |      1 |  0.0052033805 |  0.0112135579 |             - |             -\n",
      "    18 |     1798 |      1 |  0.0049658175 |  0.0097172749 |             - |             -\n",
      "    19 |     1898 |      1 |  0.000000E+00 |  0.0088435631 |             - |             -\n",
      "    20 |     1998 |      1 |  0.000000E+00 |  0.0072669026 |  0.000000E+00 |             f\n",
      "    21 |     2098 |      1 |  0.000000E+00 |  0.0061135806 |  0.000000E+00 |             f\n",
      "    22 |     2198 |      1 |  0.000000E+00 |  0.0051914097 |  1.250889E+05 |         ideal\n",
      "    23 |     2298 |      1 |  0.000000E+00 |  0.0046016293 |  0.000000E+00 |             f\n",
      "    24 |     2398 |      1 |  0.000000E+00 |  0.0040184504 |  0.000000E+00 |             f\n",
      "    25 |     2498 |      1 |  0.000000E+00 |  0.0033091022 |  9.642562E+03 |         ideal\n",
      "    26 |     2598 |      1 |  0.000000E+00 |  0.0020306979 |  1.274156E+04 |         ideal\n",
      "    27 |     2698 |      1 |  0.000000E+00 |  0.0003826007 |  1.410619E+04 |         ideal\n",
      "    28 |     2798 |      1 |  0.000000E+00 |  0.000000E+00 |  4.998512E+04 |         ideal\n",
      "    29 |     2898 |      1 |  0.000000E+00 |  0.000000E+00 |  1.293138E+05 |         ideal\n",
      "    30 |     2998 |      1 |  0.000000E+00 |  0.000000E+00 |  1.935100E+04 |         ideal\n",
      "    31 |     3098 |      1 |  0.000000E+00 |  0.000000E+00 |  1.167753E+04 |         ideal\n",
      "    32 |     3198 |      1 |  0.000000E+00 |  0.000000E+00 |  1.904688E+02 |         ideal\n",
      "    33 |     3298 |      1 |  0.000000E+00 |  0.000000E+00 |  0.000000E+00 |             f\n",
      "    34 |     3398 |      1 |  0.000000E+00 |  0.000000E+00 |  2.454369E+04 |         ideal\n",
      "    35 |     3498 |      1 |  0.000000E+00 |  0.000000E+00 |  1.758547E+04 |         ideal\n",
      "    36 |     3598 |      1 |  0.000000E+00 |  0.000000E+00 |  0.000000E+00 |             f\n",
      "    37 |     3698 |      1 |  0.000000E+00 |  0.000000E+00 |  3.173833E+04 |         ideal\n",
      "    38 |     3798 |      1 |  0.000000E+00 |  0.000000E+00 |  1.003116E+04 |         ideal\n",
      "    39 |     3898 |      1 |  0.000000E+00 |  0.000000E+00 |  1.997858E+04 |         ideal\n",
      "    40 |     3998 |      1 |  0.000000E+00 |  0.000000E+00 |  4.626953E+03 |         ideal\n",
      "    41 |     4098 |      1 |  0.000000E+00 |  0.000000E+00 |  6.187712E+04 |         ideal\n",
      "    42 |     4198 |      1 |  0.000000E+00 |  0.000000E+00 |  1.958327E+04 |         ideal\n",
      "    43 |     4298 |      1 |  0.000000E+00 |  0.000000E+00 |  0.000000E+00 |             f\n",
      "    44 |     4398 |      1 |  0.000000E+00 |  0.000000E+00 |  0.000000E+00 |             f\n",
      "    45 |     4498 |      1 |  0.000000E+00 |  0.000000E+00 |  1.237711E+04 |         ideal\n",
      "    46 |     4598 |      1 |  0.000000E+00 |  0.000000E+00 |  0.000000E+00 |             f\n",
      "    47 |     4698 |      1 |  0.000000E+00 |  0.000000E+00 |  1.786867E+03 |         ideal\n",
      "    48 |     4798 |      1 |  0.000000E+00 |  0.000000E+00 |  6.131820E+03 |         ideal\n",
      "    49 |     4898 |      1 |  0.000000E+00 |  0.000000E+00 |  3.740242E+03 |         ideal\n",
      "    50 |     4998 |      1 |  0.000000E+00 |  0.000000E+00 |  4.410734E+03 |         ideal\n",
      "    51 |     5098 |      1 |  0.000000E+00 |  0.000000E+00 |  5.039078E+03 |         ideal\n",
      "    52 |     5198 |      1 |  0.000000E+00 |  0.000000E+00 |  0.000000E+00 |             f\n",
      "    53 |     5298 |      2 |  0.000000E+00 |  0.000000E+00 |  1.0000000000 |         ideal\n",
      "    54 |     5398 |      1 |  0.000000E+00 |  0.000000E+00 |  3.942625E+03 |         ideal\n",
      "    55 |     5498 |      1 |  0.000000E+00 |  0.000000E+00 |  7.446406E+02 |         ideal\n",
      "    56 |     5598 |      1 |  0.000000E+00 |  0.000000E+00 |  5.964531E+02 |         ideal\n",
      "    57 |     5698 |      1 |  0.000000E+00 |  0.000000E+00 |  1.365625E+03 |         ideal\n",
      "    58 |     5798 |      1 |  0.000000E+00 |  0.000000E+00 |  9.280391E+02 |         ideal\n",
      "    59 |     5898 |      1 |  0.000000E+00 |  0.000000E+00 |  0.000000E+00 |             f\n",
      "    60 |     5998 |      1 |  0.000000E+00 |  0.000000E+00 |  1.253750E+02 |         ideal\n",
      "    61 |     6098 |      1 |  0.000000E+00 |  0.000000E+00 |  2.964766E+03 |         ideal\n",
      "    62 |     6198 |      1 |  0.000000E+00 |  0.000000E+00 |  0.000000E+00 |             f\n",
      "    63 |     6298 |      1 |  0.000000E+00 |  0.000000E+00 |  1.207461E+03 |         ideal\n",
      "    64 |     6398 |      1 |  0.000000E+00 |  0.000000E+00 |  0.000000E+00 |             f\n",
      "    65 |     6498 |      1 |  0.000000E+00 |  0.000000E+00 |  5.203438E+02 |         ideal\n",
      "    66 |     6598 |      1 |  0.000000E+00 |  0.000000E+00 |  0.000000E+00 |             f\n",
      "    67 |     6698 |      1 |  0.000000E+00 |  0.000000E+00 |  7.562734E+02 |         ideal\n",
      "    68 |     6798 |      1 |  0.000000E+00 |  0.000000E+00 |  1.081938E+03 |         ideal\n",
      "    69 |     6898 |      1 |  0.000000E+00 |  0.000000E+00 |  0.000000E+00 |             f\n",
      "    70 |     6998 |      1 |  0.000000E+00 |  0.000000E+00 |  0.000000E+00 |             f\n",
      "    71 |     7098 |      1 |  0.000000E+00 |  0.000000E+00 |  2.824219E+01 |         ideal\n",
      "    72 |     7198 |      1 |  0.000000E+00 |  0.000000E+00 |  4.044453E+02 |         ideal\n",
      "    73 |     7298 |      1 |  0.000000E+00 |  0.000000E+00 |  0.000000E+00 |             f\n",
      "    74 |     7398 |      1 |  0.000000E+00 |  0.000000E+00 |  1.318227E+03 |         ideal\n",
      "    75 |     7498 |      1 |  0.000000E+00 |  0.000000E+00 |  1.142234E+03 |         ideal\n",
      "    76 |     7598 |      1 |  0.000000E+00 |  0.000000E+00 |  0.000000E+00 |             f\n",
      "    77 |     7698 |      1 |  0.000000E+00 |  0.000000E+00 |  0.000000E+00 |             f\n",
      "    78 |     7798 |      1 |  0.000000E+00 |  0.000000E+00 |  0.000000E+00 |             f\n",
      "    79 |     7898 |      1 |  0.000000E+00 |  0.000000E+00 |  1.400273E+03 |         ideal\n",
      "    80 |     7998 |      1 |  0.000000E+00 |  0.000000E+00 |  8.526562E+01 |         ideal\n",
      "    81 |     8098 |      1 |  0.000000E+00 |  0.000000E+00 |  1.726719E+02 |         ideal\n",
      "    82 |     8198 |      1 |  0.000000E+00 |  0.000000E+00 |  7.236562E+02 |         ideal\n",
      "    83 |     8298 |      1 |  0.000000E+00 |  0.000000E+00 |  0.000000E+00 |             f\n",
      "    84 |     8398 |      1 |  0.000000E+00 |  0.000000E+00 |  6.712969E+02 |         ideal\n",
      "    85 |     8498 |      1 |  0.000000E+00 |  0.000000E+00 |  0.000000E+00 |             f\n",
      "    86 |     8598 |      1 |  0.000000E+00 |  0.000000E+00 |  0.000000E+00 |             f\n",
      "    87 |     8698 |      1 |  0.000000E+00 |  0.000000E+00 |  3.097031E+02 |         ideal\n",
      "    88 |     8798 |      1 |  0.000000E+00 |  0.000000E+00 |  2.743594E+02 |         ideal\n",
      "    89 |     8898 |      1 |  0.000000E+00 |  0.000000E+00 |  3.133594E+01 |         ideal\n",
      "    90 |     8998 |      1 |  0.000000E+00 |  0.000000E+00 |  1.046656E+03 |         ideal\n",
      "    91 |     9098 |      1 |  0.000000E+00 |  0.000000E+00 |  0.000000E+00 |             f\n",
      "    92 |     9198 |      1 |  0.000000E+00 |  0.000000E+00 |  1.870391E+02 |         ideal\n",
      "    93 |     9298 |      1 |  0.000000E+00 |  0.000000E+00 |  0.000000E+00 |             f\n",
      "    94 |     9398 |      1 |  0.000000E+00 |  0.000000E+00 |  3.334219E+02 |         ideal\n",
      "    95 |     9498 |      1 |  0.000000E+00 |  0.000000E+00 |  6.644297E+02 |         ideal\n",
      "    96 |     9598 |      1 |  0.000000E+00 |  0.000000E+00 |  0.000000E+00 |             f\n",
      "    97 |     9698 |      1 |  0.000000E+00 |  0.000000E+00 |  4.692188E+01 |         ideal\n",
      "    98 |     9798 |      1 |  0.000000E+00 |  0.000000E+00 |  6.891250E+02 |         ideal\n",
      "    99 |     9898 |      1 |  0.000000E+00 |  0.000000E+00 |  0.000000E+00 |             f\n",
      "   100 |     9998 |      1 |  0.000000E+00 |  0.000000E+00 |  1.524219E+02 |         ideal\n",
      "   101 |    10098 |      1 |  0.000000E+00 |  0.000000E+00 |  4.007734E+02 |         ideal\n",
      "   102 |    10198 |      1 |  0.000000E+00 |  0.000000E+00 |  0.000000E+00 |             f\n",
      "   103 |    10298 |      1 |  0.000000E+00 |  0.000000E+00 |  4.876562E+01 |         ideal\n",
      "   104 |    10398 |      1 |  0.000000E+00 |  0.000000E+00 |  2.051320E+03 |         ideal\n",
      "   105 |    10498 |      1 |  0.000000E+00 |  0.000000E+00 |  1.349141E+02 |         ideal\n",
      "   106 |    10598 |      1 |  0.000000E+00 |  0.000000E+00 |  0.000000E+00 |             f\n",
      "   107 |    10698 |      1 |  0.000000E+00 |  0.000000E+00 |  0.000000E+00 |             f\n",
      "   108 |    10798 |      1 |  0.000000E+00 |  0.000000E+00 |  0.000000E+00 |             f\n",
      "   109 |    10898 |      1 |  0.000000E+00 |  0.000000E+00 |  0.000000E+00 |             f\n",
      "   110 |    10998 |      2 |  0.000000E+00 |  0.000000E+00 |  4.967297E+01 |         ideal\n",
      "   111 |    11098 |      2 |  0.000000E+00 |  0.000000E+00 |  0.000000E+00 |             f\n",
      "   112 |    11198 |      1 |  0.000000E+00 |  0.000000E+00 |  1.495312E+02 |         ideal\n",
      "   113 |    11298 |      1 |  0.000000E+00 |  0.000000E+00 |  0.000000E+00 |             f\n",
      "   114 |    11398 |      1 |  0.000000E+00 |  0.000000E+00 |  1.011719E+01 |         ideal\n",
      "   115 |    11498 |      1 |  0.000000E+00 |  0.000000E+00 |  1.297109E+02 |         ideal\n",
      "   116 |    11598 |      1 |  0.000000E+00 |  0.000000E+00 |  4.870078E+02 |         ideal\n",
      "   117 |    11698 |      1 |  0.000000E+00 |  0.000000E+00 |  1.995312E+02 |         ideal\n",
      "   118 |    11798 |      1 |  0.000000E+00 |  0.000000E+00 |  1.063359E+02 |         ideal\n",
      "   119 |    11898 |      1 |  0.000000E+00 |  0.000000E+00 |  3.089844E+02 |         ideal\n",
      "   120 |    11998 |      2 |  0.000000E+00 |  0.000000E+00 |  1.0000000000 |         ideal\n",
      "   121 |    12098 |      1 |  0.000000E+00 |  0.000000E+00 |  1.347891E+02 |         ideal\n",
      "   122 |    12198 |      1 |  0.000000E+00 |  0.000000E+00 |  2.536406E+02 |         ideal\n",
      "   123 |    12298 |      1 |  0.000000E+00 |  0.000000E+00 |  1.274766E+02 |         ideal\n",
      "   124 |    12398 |      1 |  0.000000E+00 |  0.000000E+00 |  7.341406E+01 |         ideal\n",
      "   125 |    12498 |      1 |  0.000000E+00 |  0.000000E+00 |  2.427266E+02 |         ideal\n",
      "   126 |    12598 |      1 |  0.000000E+00 |  0.000000E+00 |  0.000000E+00 |             f\n",
      "   127 |    12698 |      1 |  0.000000E+00 |  0.000000E+00 |  0.000000E+00 |             f\n",
      "   128 |    12798 |      1 |  0.000000E+00 |  0.000000E+00 |  6.563281E+01 |         ideal\n",
      "   129 |    12898 |      1 |  0.000000E+00 |  0.000000E+00 |  0.000000E+00 |             f\n",
      "   130 |    12998 |      1 |  0.000000E+00 |  0.000000E+00 |  1.417422E+02 |         ideal\n",
      "   131 |    13098 |      1 |  0.000000E+00 |  0.000000E+00 |  3.464844E+01 |         ideal\n",
      "   132 |    13198 |      1 |  0.000000E+00 |  0.000000E+00 |  1.321641E+02 |         ideal\n",
      "   133 |    13298 |      1 |  0.000000E+00 |  0.000000E+00 |  2.017969E+01 |         ideal\n",
      "   134 |    13398 |      1 |  0.000000E+00 |  0.000000E+00 |  3.900859E+02 |         ideal\n",
      "   135 |    13498 |      1 |  0.000000E+00 |  0.000000E+00 |  2.417969E+01 |         ideal\n",
      "   136 |    13598 |      1 |  0.000000E+00 |  0.000000E+00 |  2.222656E+01 |         ideal\n",
      "   137 |    13698 |      1 |  0.000000E+00 |  0.000000E+00 |  6.660938E+01 |         ideal\n",
      "   138 |    13798 |      1 |  0.000000E+00 |  0.000000E+00 |  4.323438E+01 |         ideal\n",
      "   139 |    13898 |      1 |  0.000000E+00 |  0.000000E+00 |  2.912578E+02 |         ideal\n",
      "   140 |    13998 |      1 |  0.000000E+00 |  0.000000E+00 |  1.110156E+02 |         ideal\n",
      "   141 |    14098 |      1 |  0.000000E+00 |  0.000000E+00 |  4.740625E+01 |         ideal\n",
      "   142 |    14198 |      1 |  0.000000E+00 |  0.000000E+00 |  1.077500E+02 |         ideal\n",
      "   143 |    14298 |      1 |  0.000000E+00 |  0.000000E+00 |  5.358281E+02 |         ideal\n",
      "   144 |    14398 |      1 |  0.000000E+00 |  0.000000E+00 |  0.000000E+00 |             f\n",
      "   145 |    14498 |      1 |  0.000000E+00 |  0.000000E+00 |  0.000000E+00 |             f\n",
      "   146 |    14598 |      1 |  0.000000E+00 |  0.000000E+00 |  9.026562E+01 |         ideal\n",
      "   147 |    14698 |      1 |  0.000000E+00 |  0.000000E+00 |  0.000000E+00 |             f\n",
      "   148 |    14798 |      1 |  0.000000E+00 |  0.000000E+00 |  2.238281E+01 |         ideal\n",
      "   149 |    14898 |      1 |  0.000000E+00 |  0.000000E+00 |  4.800000E+01 |         ideal\n",
      "   150 |    14998 |      1 |  0.000000E+00 |  0.000000E+00 |  1.524375E+02 |         ideal\n",
      "   151 |    15098 |      1 |  0.000000E+00 |  0.000000E+00 |  8.892969E+01 |         ideal\n",
      "   152 |    15198 |      1 |  0.000000E+00 |  0.000000E+00 |  1.702344E+01 |         ideal\n",
      "   153 |    15298 |      1 |  0.000000E+00 |  0.000000E+00 |  1.405078E+02 |         ideal\n",
      "   154 |    15398 |      1 |  0.000000E+00 |  0.000000E+00 |  1.829297E+02 |         ideal\n",
      "   155 |    15498 |      1 |  0.000000E+00 |  0.000000E+00 |  1.937500E+01 |         ideal\n",
      "   156 |    15598 |      1 |  0.000000E+00 |  0.000000E+00 |  7.246875E+01 |         ideal\n",
      "   157 |    15698 |      1 |  0.000000E+00 |  0.000000E+00 |  0.000000E+00 |             f\n",
      "   158 |    15798 |      1 |  0.000000E+00 |  0.000000E+00 |  3.944531E+01 |         ideal\n",
      "   159 |    15898 |      1 |  0.000000E+00 |  0.000000E+00 |  4.889062E+01 |         ideal\n",
      "   160 |    15998 |      1 |  0.000000E+00 |  0.000000E+00 |  2.660156E+01 |         ideal\n",
      "   161 |    16098 |      2 |  0.000000E+00 |  0.000000E+00 |  1.0000000000 |         ideal\n",
      "   162 |    16198 |      1 |  0.000000E+00 |  0.000000E+00 |  4.736719E+01 |         ideal\n",
      "   163 |    16298 |      1 |  0.000000E+00 |  0.000000E+00 |  3.150234E+02 |         ideal\n",
      "   164 |    16398 |      1 |  0.000000E+00 |  0.000000E+00 |  1.056328E+02 |         ideal\n",
      "   165 |    16498 |      1 |  0.000000E+00 |  0.000000E+00 |  2.084375E+01 |         ideal\n",
      "   166 |    16598 |      1 |  0.000000E+00 |  0.000000E+00 |  1.769766E+02 |         ideal\n",
      "   167 |    16698 |      1 |  0.000000E+00 |  0.000000E+00 |  2.912500E+01 |         ideal\n",
      "   168 |    16798 |      1 |  0.000000E+00 |  0.000000E+00 |  4.235938E+01 |         ideal\n",
      "   169 |    16898 |      1 |  0.000000E+00 |  0.000000E+00 |  2.700781E+01 |         ideal\n",
      "   170 |    16998 |      2 |  0.000000E+00 |  0.000000E+00 |  1.1241050119 |         ideal\n",
      "   171 |    17098 |      2 |  0.000000E+00 |  0.000000E+00 |  0.4159869494 |         ideal\n",
      "   172 |    17198 |      1 |  0.000000E+00 |  0.000000E+00 |  1.193125E+02 |         ideal\n",
      "   173 |    17298 |      1 |  0.000000E+00 |  0.000000E+00 |  3.750781E+01 |         ideal\n",
      "   174 |    17398 |      1 |  0.000000E+00 |  0.000000E+00 |  5.003906E+01 |         ideal\n",
      "   175 |    17498 |      3 |  0.000000E+00 |  0.000000E+00 |  0.9242957746 |         ideal\n",
      "   176 |    17598 |      1 |  0.000000E+00 |  0.000000E+00 |  1.188828E+02 |         ideal\n",
      "   177 |    17698 |      1 |  0.000000E+00 |  0.000000E+00 |  0.000000E+00 |             f\n",
      "   178 |    17798 |      1 |  0.000000E+00 |  0.000000E+00 |  9.939062E+01 |         ideal\n",
      "   179 |    17898 |      1 |  0.000000E+00 |  0.000000E+00 |  9.678125E+01 |         ideal\n",
      "   180 |    17998 |      1 |  0.000000E+00 |  0.000000E+00 |  0.000000E+00 |             f\n",
      "   181 |    18098 |      1 |  0.000000E+00 |  0.000000E+00 |  4.301562E+02 |         ideal\n",
      "   182 |    18198 |      1 |  0.000000E+00 |  0.000000E+00 |  0.000000E+00 |             f\n",
      "   183 |    18298 |      1 |  0.000000E+00 |  0.000000E+00 |  3.746328E+02 |         ideal\n",
      "   184 |    18398 |      1 |  0.000000E+00 |  0.000000E+00 |  6.969531E+01 |         ideal\n",
      "   185 |    18498 |      1 |  0.000000E+00 |  0.000000E+00 |  9.903906E+01 |         ideal\n",
      "   186 |    18598 |      1 |  0.000000E+00 |  0.000000E+00 |  5.113281E+01 |         ideal\n",
      "   187 |    18698 |      1 |  0.000000E+00 |  0.000000E+00 |  3.201562E+02 |         ideal\n",
      "   188 |    18798 |      1 |  0.000000E+00 |  0.000000E+00 |  0.000000E+00 |             f\n",
      "   189 |    18898 |      1 |  0.000000E+00 |  0.000000E+00 |  0.000000E+00 |             f\n",
      "   190 |    18998 |      2 |  0.000000E+00 |  0.000000E+00 |  1.0000000000 |         ideal\n",
      "   191 |    19098 |      2 |  0.000000E+00 |  0.000000E+00 |  2.8297297297 |         ideal\n",
      "   192 |    19198 |      2 |  0.000000E+00 |  0.000000E+00 |  0.000000E+00 |             f\n",
      "   193 |    19298 |      1 |  0.000000E+00 |  0.000000E+00 |  3.070312E+01 |         ideal\n",
      "   194 |    19398 |      1 |  0.000000E+00 |  0.000000E+00 |  0.000000E+00 |             f\n",
      "   195 |    19498 |      1 |  0.000000E+00 |  0.000000E+00 |  4.106250E+01 |         ideal\n",
      "   196 |    19598 |      1 |  0.000000E+00 |  0.000000E+00 |  0.000000E+00 |             f\n",
      "   197 |    19698 |      1 |  0.000000E+00 |  0.000000E+00 |  3.430469E+02 |         ideal\n",
      "   198 |    19798 |      1 |  0.000000E+00 |  0.000000E+00 |  0.000000E+00 |             f\n",
      "   199 |    19898 |      1 |  0.000000E+00 |  0.000000E+00 |  0.000000E+00 |             f\n",
      "   200 |    19998 |      1 |  0.000000E+00 |  0.000000E+00 |  3.437500E+01 |         ideal\n",
      "76340.195\n",
      "100\n"
     ]
    },
    {
     "name": "stderr",
     "output_type": "stream",
     "text": [
      "100%|██████████| 100/100 [00:00<00:00, 5023.54it/s]\n",
      "/home/ada/anaconda3/lib/python3.11/site-packages/numpy/core/fromnumeric.py:3464: RuntimeWarning: Mean of empty slice.\n",
      "  return _methods._mean(a, axis=axis, dtype=dtype,\n",
      "/home/ada/anaconda3/lib/python3.11/site-packages/numpy/core/_methods.py:192: RuntimeWarning: invalid value encountered in scalar divide\n",
      "  ret = ret.dtype.type(ret / rcount)\n"
     ]
    },
    {
     "name": "stdout",
     "output_type": "stream",
     "text": [
      "error at hull 0\n",
      "error at hull 1\n",
      "error at hull 2\n",
      "error at hull 3\n",
      "error at hull 4\n",
      "error at hull 5\n",
      "error at hull 6\n",
      "error at hull 7\n",
      "error at hull 8\n",
      "error at hull 9\n",
      "error at hull 10\n",
      "error at hull 11\n",
      "error at hull 12\n",
      "error at hull 13\n",
      "error at hull 14\n",
      "error at hull 15\n",
      "error at hull 16\n",
      "error at hull 17\n",
      "error at hull 18\n",
      "error at hull 19\n",
      "error at hull 20\n",
      "error at hull 21\n",
      "error at hull 22\n",
      "error at hull 23\n",
      "error at hull 24\n",
      "error at hull 25\n",
      "error at hull 26\n",
      "error at hull 27\n",
      "error at hull 28\n",
      "error at hull 29\n",
      "error at hull 30\n",
      "error at hull 31\n",
      "error at hull 32\n",
      "error at hull 33\n",
      "error at hull 34\n",
      "error at hull 35\n",
      "error at hull 36\n",
      "error at hull 37\n",
      "error at hull 38\n",
      "error at hull 39\n",
      "error at hull 40\n",
      "error at hull 41\n",
      "error at hull 42\n",
      "error at hull 43\n",
      "error at hull 44\n",
      "error at hull 45\n",
      "error at hull 46\n",
      "error at hull 47\n",
      "error at hull 48\n",
      "error at hull 49\n",
      "error at hull 50\n",
      "error at hull 51\n",
      "error at hull 52\n",
      "error at hull 53\n",
      "error at hull 54\n",
      "error at hull 55\n",
      "error at hull 56\n",
      "error at hull 57\n",
      "error at hull 58\n",
      "error at hull 59\n",
      "error at hull 60\n",
      "error at hull 61\n",
      "error at hull 62\n",
      "error at hull 63\n",
      "error at hull 64\n",
      "error at hull 65\n",
      "error at hull 66\n",
      "error at hull 67\n",
      "error at hull 68\n",
      "error at hull 69\n",
      "error at hull 70\n",
      "error at hull 71\n",
      "error at hull 72\n",
      "error at hull 73\n",
      "error at hull 74\n",
      "error at hull 75\n",
      "error at hull 76\n",
      "error at hull 77\n",
      "error at hull 78\n",
      "error at hull 79\n",
      "error at hull 80\n",
      "error at hull 81\n",
      "error at hull 82\n",
      "error at hull 83\n",
      "error at hull 84\n",
      "error at hull 85\n",
      "error at hull 86\n",
      "error at hull 87\n",
      "error at hull 88\n",
      "error at hull 89\n",
      "error at hull 90\n",
      "error at hull 91\n",
      "error at hull 92\n",
      "error at hull 93\n",
      "error at hull 94\n",
      "error at hull 95\n",
      "error at hull 96\n",
      "error at hull 97\n",
      "error at hull 98\n",
      "error at hull 99\n",
      "Volume MEAP: nan%\n",
      "Beam MEAP: nan%\n",
      "Depth MEAP: nan%\n"
     ]
    },
    {
     "name": "stderr",
     "output_type": "stream",
     "text": [
      "  3%|▎         | 1/32 [00:00<00:03,  8.03it/s]"
     ]
    },
    {
     "name": "stdout",
     "output_type": "stream",
     "text": [
      "error at hull 0\n"
     ]
    },
    {
     "name": "stderr",
     "output_type": "stream",
     "text": [
      "  6%|▋         | 2/32 [00:00<00:03,  8.00it/s]"
     ]
    },
    {
     "name": "stdout",
     "output_type": "stream",
     "text": [
      "error at hull 1\n"
     ]
    },
    {
     "name": "stderr",
     "output_type": "stream",
     "text": [
      "  9%|▉         | 3/32 [00:00<00:03,  8.02it/s]"
     ]
    },
    {
     "name": "stdout",
     "output_type": "stream",
     "text": [
      "error at hull 2\n"
     ]
    },
    {
     "name": "stderr",
     "output_type": "stream",
     "text": [
      " 12%|█▎        | 4/32 [00:00<00:03,  8.00it/s]"
     ]
    },
    {
     "name": "stdout",
     "output_type": "stream",
     "text": [
      "error at hull 3\n"
     ]
    },
    {
     "name": "stderr",
     "output_type": "stream",
     "text": [
      " 19%|█▉        | 6/32 [00:00<00:04,  6.35it/s]"
     ]
    },
    {
     "name": "stdout",
     "output_type": "stream",
     "text": [
      "error at hull 4\n",
      "error at hull 5\n"
     ]
    },
    {
     "name": "stderr",
     "output_type": "stream",
     "text": [
      " 25%|██▌       | 8/32 [00:01<00:03,  7.18it/s]"
     ]
    },
    {
     "name": "stdout",
     "output_type": "stream",
     "text": [
      "error at hull 6\n",
      "error at hull 7\n"
     ]
    },
    {
     "name": "stderr",
     "output_type": "stream",
     "text": [
      " 31%|███▏      | 10/32 [00:01<00:02,  7.58it/s]"
     ]
    },
    {
     "name": "stdout",
     "output_type": "stream",
     "text": [
      "error at hull 8\n",
      "error at hull 9\n"
     ]
    },
    {
     "name": "stderr",
     "output_type": "stream",
     "text": [
      " 38%|███▊      | 12/32 [00:01<00:02,  7.78it/s]"
     ]
    },
    {
     "name": "stdout",
     "output_type": "stream",
     "text": [
      "error at hull 10\n",
      "error at hull 11\n"
     ]
    },
    {
     "name": "stderr",
     "output_type": "stream",
     "text": [
      " 44%|████▍     | 14/32 [00:01<00:02,  7.89it/s]"
     ]
    },
    {
     "name": "stdout",
     "output_type": "stream",
     "text": [
      "error at hull 12\n",
      "error at hull 13\n"
     ]
    },
    {
     "name": "stderr",
     "output_type": "stream",
     "text": [
      " 50%|█████     | 16/32 [00:02<00:02,  7.94it/s]"
     ]
    },
    {
     "name": "stdout",
     "output_type": "stream",
     "text": [
      "error at hull 14\n",
      "error at hull 15\n"
     ]
    },
    {
     "name": "stderr",
     "output_type": "stream",
     "text": [
      " 56%|█████▋    | 18/32 [00:02<00:01,  7.98it/s]"
     ]
    },
    {
     "name": "stdout",
     "output_type": "stream",
     "text": [
      "error at hull 16\n",
      "error at hull 17\n"
     ]
    },
    {
     "name": "stderr",
     "output_type": "stream",
     "text": [
      " 62%|██████▎   | 20/32 [00:02<00:01,  7.99it/s]"
     ]
    },
    {
     "name": "stdout",
     "output_type": "stream",
     "text": [
      "error at hull 18\n",
      "error at hull 19\n"
     ]
    },
    {
     "name": "stderr",
     "output_type": "stream",
     "text": [
      " 69%|██████▉   | 22/32 [00:02<00:01,  8.00it/s]"
     ]
    },
    {
     "name": "stdout",
     "output_type": "stream",
     "text": [
      "error at hull 20\n",
      "error at hull 21\n"
     ]
    },
    {
     "name": "stderr",
     "output_type": "stream",
     "text": [
      " 75%|███████▌  | 24/32 [00:03<00:00,  8.02it/s]"
     ]
    },
    {
     "name": "stdout",
     "output_type": "stream",
     "text": [
      "error at hull 22\n",
      "error at hull 23\n"
     ]
    },
    {
     "name": "stderr",
     "output_type": "stream",
     "text": [
      " 81%|████████▏ | 26/32 [00:03<00:00,  8.01it/s]"
     ]
    },
    {
     "name": "stdout",
     "output_type": "stream",
     "text": [
      "error at hull 24\n",
      "error at hull 25\n"
     ]
    },
    {
     "name": "stderr",
     "output_type": "stream",
     "text": [
      " 88%|████████▊ | 28/32 [00:03<00:00,  8.01it/s]"
     ]
    },
    {
     "name": "stdout",
     "output_type": "stream",
     "text": [
      "error at hull 26\n",
      "error at hull 27\n"
     ]
    },
    {
     "name": "stderr",
     "output_type": "stream",
     "text": [
      " 94%|█████████▍| 30/32 [00:03<00:00,  8.01it/s]"
     ]
    },
    {
     "name": "stdout",
     "output_type": "stream",
     "text": [
      "error at hull 28\n",
      "error at hull 29\n"
     ]
    },
    {
     "name": "stderr",
     "output_type": "stream",
     "text": [
      "100%|██████████| 32/32 [00:04<00:00,  7.74it/s]"
     ]
    },
    {
     "name": "stdout",
     "output_type": "stream",
     "text": [
      "error at hull 30\n",
      "error at hull 31\n"
     ]
    },
    {
     "name": "stderr",
     "output_type": "stream",
     "text": [
      "\n"
     ]
    }
   ],
   "source": [
    "# Set up the Problem:\n",
    "popSize = 100\n",
    "Gen = 200\n",
    "\n",
    "#popSize = 250 # trying to get the ROPAX to optimize\n",
    "\n",
    "#for i in range(0,len(Ships)):\n",
    "for i in [4]: #,4] #range(4,5):\n",
    "\n",
    "\n",
    "    print('Starting Study {}'.format(i))\n",
    "    \n",
    "    Study_Label = 'Study_' + str(i)\n",
    "    \n",
    "    LOA = Ships[i,0]\n",
    "    BOA = Ships[i,1]\n",
    "    Draft = Ships[i,2]\n",
    "    Depth = Ships[i,3]\n",
    "    Vol = Ships[i,4]\n",
    "\n",
    "    U = Ships[i,5] #12.86 #m/s  = 25 knots\n",
    "\n",
    "    \n",
    "\n",
    "\n",
    "    Geom_Cond = [LOA,\n",
    "                BOA,\n",
    "                Draft,\n",
    "                Depth,\n",
    "                Vol,\n",
    "                U, \n",
    "                Gen]\n",
    "\n",
    "    X_LIMITS = np.zeros((len(DesVec_82k[0]), 2))\n",
    "\n",
    "    X_LIMITS[1:] = np.load('/home/ada/Documents/HullParameterization/HullDiffusion/Restructured_Dataset/X_LIMITS.npy')\n",
    "    print(X_LIMITS.shape)\n",
    "\n",
    "    X_LIMITS[0,0:2] = [LOA*0.8, LOA*1.000000001]\n",
    "\n",
    "\n",
    "    problem = OT.Minimize_Drag(Geom_Cond,Reg_PATHS,X_LIMITS,DesVec_82k[:,1:], Drag_Reg_Dict,LOA_wBulb_Reg_Dict,WL_Reg_Dict, 'cuda:0')\n",
    "\n",
    "    #Pop = OT.gen_Pop(popSize, X_LIMITS[:,0], X_LIMITS[:,1])\n",
    "\n",
    "    A = np.random.randint(0,len(DesVec_82k),popSize)\n",
    "\n",
    "    Pop = np.zeros((popSize,len(DesVec_82k[0])))\n",
    "\n",
    "    \n",
    "\n",
    "\n",
    "    Pop[:,1:] = DesVec_82k[A,1:] #Initialize population with random designs from dataset\n",
    "    Pop[:,0] = np.random.random(popSize)*(X_LIMITS[0,1]-X_LIMITS[0,0])+X_LIMITS[0,0] #Initialize population with random designs from dataset\n",
    "\n",
    "    X_DDPM = np.load('./Optimization_Study_Samples/' + Study_Label + '/DDPM_DesVec.npy')\n",
    "    A = np.random.randint(0,len(X_DDPM),32)\n",
    "\n",
    "    Pop[0:32] = X_DDPM[A] #Initialize population with random designs from dataset\n",
    "\n",
    "\n",
    "    \n",
    "\n",
    "    print(Pop.shape)\n",
    "\n",
    "    constraints = []\n",
    "    sum_violation = []\n",
    "    cons = []\n",
    "    valid_idx = []\n",
    "\n",
    "    for i in tqdm(range(0,len(Pop))):\n",
    "        hull = HP(Pop[i])\n",
    "        constraints.append(hull.input_Constraints())\n",
    "        cons.append(constraints[i] > 0)\n",
    "        \n",
    "        if sum(cons[i]) == 0:\n",
    "            valid_idx.append(i)\n",
    "            #hull.Calc_VolumeProperties(NUM_WL = 101, PointsPerWL = 1000)\n",
    "        sum_violation.append(sum(cons[i]))\n",
    "\n",
    "    print(len(valid_idx))\n",
    "\n",
    "    print('Starting Optimization')\n",
    "    algorithm = NSGA2(\n",
    "            pop_size=popSize,\n",
    "            sampling = Pop,\n",
    "            eliminate_duplicates=True)\n",
    "\n",
    "    res = minimize(problem,\n",
    "                algorithm,\n",
    "                ('n_gen', Gen),\n",
    "                seed=1,\n",
    "                verbose=True,\n",
    "                save_history=True)\n",
    "    \n",
    "    #print('Starting Seeded Optimization')\n",
    "    \n",
    "    Xopt = res.pop.get('X')\n",
    "    Fopt = res.pop.get('F')\n",
    "\n",
    "    #Xopt_seeded = res2.pop.get('X')\n",
    "    #Fopt_seeded = res2.pop.get('F')\n",
    "\n",
    "    DesVec_Opt = Xopt.copy()\n",
    "\n",
    "    DesVec_Opt = OT.clean_designVector(DesVec_Opt)\n",
    "\n",
    "    x_norm = problem.D.data_norm.transform_Data(DesVec_Opt[:,1:])\n",
    "\n",
    "    drag_cond = np.repeat(problem.dim, len(Xopt), axis=0)\n",
    "\n",
    "    Rt,Ct,Fn = problem.D.Predict_Drag(x_norm,drag_cond, DesVec_Opt[:,0:1])\n",
    "\n",
    "    print(np.mean(Rt))\n",
    "\n",
    "    np.save('./Optimization_Study_Samples/' + Study_Label + '/OptimalDrag_Rt_NNReg.npy',Rt)\n",
    "\n",
    "    np.save('./Optimization_Study_Samples/' + Study_Label + '/OptimalDrag_DesVec.npy',DesVec_Opt)\n",
    "\n",
    "\n",
    "    # Generate some STLs\n",
    "\n",
    "\n",
    "    print(len(valid_idx))\n",
    "    sample_vol = []\n",
    "    sample_BOA = []\n",
    "    sample_Dd = []\n",
    "    idx_to_remove = []\n",
    "\n",
    "    for i in tqdm(range(0,len(Xopt))):\n",
    "        hull = HP(Xopt[i]) \n",
    "        #print(i)\n",
    "        try:\n",
    "            Z = hull.Calc_VolumeProperties(NUM_WL = 101, PointsPerWL = 1000)    \n",
    "            sample_vol.append(HP.interp(hull.Volumes, Z, Draft))\n",
    "            Beam = max(hull.Calc_Max_Beam_midship(), hull.Calc_Max_Beam_PC())\n",
    "            sample_BOA.append(Beam)\n",
    "            sample_Dd.append(hull.Dd)\n",
    "        except:\n",
    "            print('error at hull {}'.format(i))\n",
    "            idx_to_remove.append(i)\n",
    "\n",
    "            continue\n",
    "\n",
    "    sample_vol = np.array(sample_vol)\n",
    "    sample_BOA = np.array(sample_BOA)\n",
    "    sample_Dd = np.array(sample_Dd)\n",
    "\n",
    "    VolMEAP = np.mean(np.abs(sample_vol - Vol)/Vol)*100\n",
    "    print('Volume MEAP: {}%'.format(VolMEAP))\n",
    "\n",
    "    BOAMEAP = np.mean(np.abs(sample_BOA - BOA)/BOA)*100\n",
    "    print('Beam MEAP: {}%'.format(BOAMEAP))\n",
    "\n",
    "    DdMEAP = np.mean(np.abs(sample_Dd - Depth)/Depth)*100\n",
    "    print('Depth MEAP: {}%'.format(DdMEAP))\n",
    "\n",
    "\n",
    "    for i in tqdm(range(0,32)):\n",
    "        Hull = HP(Xopt[i])\n",
    "        #Hull_seeded = HP(Xopt_seeded[i])\n",
    "\n",
    "        #Check Constriants:\n",
    "        constraints = Hull.input_Constraints()\n",
    "        cons = constraints > 0\n",
    "        #print(sum(cons)) # should be zero\n",
    "\n",
    "        #make the .stl file of the hull:\n",
    "        try:\n",
    "\n",
    "            strpath =  './Optimization_Study_Samples/' + Study_Label + '/stl_opt/opt_Hull_'  + str(i)\n",
    "            mesh = Hull.gen_stl(NUM_WL=100, PointsPerWL=800, bit_AddTransom = 1, bit_AddDeckLid = 1, namepath = strpath)\n",
    "        except:\n",
    "            print('error at hull {}'.format(i))\n",
    "            continue\n",
    "\n",
    "\n",
    "        #strpath_seeded =  './Optimization_Study_Samples/' + Study_Label + '/stl_opt/SEEDED_opt_Hull_'  + str(i)\n",
    "        #mesh = Hull_seeded.gen_stl(NUM_WL=100, PointsPerWL=800, bit_AddTransom = 1, bit_AddDeckLid = 1, namepath = strpath)\n",
    "\n"
   ]
  }
 ],
 "metadata": {
  "kernelspec": {
   "display_name": "base",
   "language": "python",
   "name": "python3"
  },
  "language_info": {
   "codemirror_mode": {
    "name": "ipython",
    "version": 3
   },
   "file_extension": ".py",
   "mimetype": "text/x-python",
   "name": "python",
   "nbconvert_exporter": "python",
   "pygments_lexer": "ipython3",
   "version": "3.11.4"
  }
 },
 "nbformat": 4,
 "nbformat_minor": 2
}
